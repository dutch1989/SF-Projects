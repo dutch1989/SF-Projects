{
  "nbformat": 4,
  "nbformat_minor": 0,
  "metadata": {
    "colab": {
      "provenance": []
    },
    "kernelspec": {
      "name": "python3",
      "display_name": "Python 3"
    },
    "language_info": {
      "name": "python"
    }
  },
  "cells": [
    {
      "cell_type": "code",
      "execution_count": null,
      "metadata": {
        "id": "GUQsOXgmXnp3"
      },
      "outputs": [],
      "source": [
        "import pandas as pd\n",
        "from sklearn import model_selection\n",
        "from sklearn import linear_model\n",
        "from sklearn import ensemble\n",
        "from sklearn import metrics\n",
        "from hyperopt import fmin, hp, tpe, Trials\n",
        "import numpy as np\n",
        "import optuna"
      ]
    },
    {
      "cell_type": "code",
      "source": [
        "data = pd.read_csv('_train_sem09 (1).csv')"
      ],
      "metadata": {
        "id": "0kG0SsspYJnM"
      },
      "execution_count": null,
      "outputs": []
    },
    {
      "cell_type": "code",
      "source": [
        "data.head()"
      ],
      "metadata": {
        "colab": {
          "base_uri": "https://localhost:8080/",
          "height": 236
        },
        "id": "CEZCsp_idiJQ",
        "outputId": "81dcc9cf-b9bf-408d-ce28-af6d1508be25"
      },
      "execution_count": null,
      "outputs": [
        {
          "output_type": "execute_result",
          "data": {
            "text/plain": [
              "   Activity        D1        D2    D3   D4        D5        D6        D7  \\\n",
              "0         1  0.000000  0.497009  0.10  0.0  0.132956  0.678031  0.273166   \n",
              "1         1  0.366667  0.606291  0.05  0.0  0.111209  0.803455  0.106105   \n",
              "2         1  0.033300  0.480124  0.00  0.0  0.209791  0.610350  0.356453   \n",
              "3         1  0.000000  0.538825  0.00  0.5  0.196344  0.724230  0.235606   \n",
              "4         0  0.100000  0.517794  0.00  0.0  0.494734  0.781422  0.154361   \n",
              "\n",
              "         D8        D9  ...  D1767  D1768  D1769  D1770  D1771  D1772  D1773  \\\n",
              "0  0.585445  0.743663  ...      0      0      0      0      0      0      0   \n",
              "1  0.411754  0.836582  ...      1      1      1      1      0      1      0   \n",
              "2  0.517720  0.679051  ...      0      0      0      0      0      0      0   \n",
              "3  0.288764  0.805110  ...      0      0      0      0      0      0      0   \n",
              "4  0.303809  0.812646  ...      0      0      0      0      0      0      0   \n",
              "\n",
              "   D1774  D1775  D1776  \n",
              "0      0      0      0  \n",
              "1      0      1      0  \n",
              "2      0      0      0  \n",
              "3      0      0      0  \n",
              "4      0      0      0  \n",
              "\n",
              "[5 rows x 1777 columns]"
            ],
            "text/html": [
              "\n",
              "  <div id=\"df-ac2adeb3-6ecb-4ec9-be08-f58fa8b97e34\">\n",
              "    <div class=\"colab-df-container\">\n",
              "      <div>\n",
              "<style scoped>\n",
              "    .dataframe tbody tr th:only-of-type {\n",
              "        vertical-align: middle;\n",
              "    }\n",
              "\n",
              "    .dataframe tbody tr th {\n",
              "        vertical-align: top;\n",
              "    }\n",
              "\n",
              "    .dataframe thead th {\n",
              "        text-align: right;\n",
              "    }\n",
              "</style>\n",
              "<table border=\"1\" class=\"dataframe\">\n",
              "  <thead>\n",
              "    <tr style=\"text-align: right;\">\n",
              "      <th></th>\n",
              "      <th>Activity</th>\n",
              "      <th>D1</th>\n",
              "      <th>D2</th>\n",
              "      <th>D3</th>\n",
              "      <th>D4</th>\n",
              "      <th>D5</th>\n",
              "      <th>D6</th>\n",
              "      <th>D7</th>\n",
              "      <th>D8</th>\n",
              "      <th>D9</th>\n",
              "      <th>...</th>\n",
              "      <th>D1767</th>\n",
              "      <th>D1768</th>\n",
              "      <th>D1769</th>\n",
              "      <th>D1770</th>\n",
              "      <th>D1771</th>\n",
              "      <th>D1772</th>\n",
              "      <th>D1773</th>\n",
              "      <th>D1774</th>\n",
              "      <th>D1775</th>\n",
              "      <th>D1776</th>\n",
              "    </tr>\n",
              "  </thead>\n",
              "  <tbody>\n",
              "    <tr>\n",
              "      <th>0</th>\n",
              "      <td>1</td>\n",
              "      <td>0.000000</td>\n",
              "      <td>0.497009</td>\n",
              "      <td>0.10</td>\n",
              "      <td>0.0</td>\n",
              "      <td>0.132956</td>\n",
              "      <td>0.678031</td>\n",
              "      <td>0.273166</td>\n",
              "      <td>0.585445</td>\n",
              "      <td>0.743663</td>\n",
              "      <td>...</td>\n",
              "      <td>0</td>\n",
              "      <td>0</td>\n",
              "      <td>0</td>\n",
              "      <td>0</td>\n",
              "      <td>0</td>\n",
              "      <td>0</td>\n",
              "      <td>0</td>\n",
              "      <td>0</td>\n",
              "      <td>0</td>\n",
              "      <td>0</td>\n",
              "    </tr>\n",
              "    <tr>\n",
              "      <th>1</th>\n",
              "      <td>1</td>\n",
              "      <td>0.366667</td>\n",
              "      <td>0.606291</td>\n",
              "      <td>0.05</td>\n",
              "      <td>0.0</td>\n",
              "      <td>0.111209</td>\n",
              "      <td>0.803455</td>\n",
              "      <td>0.106105</td>\n",
              "      <td>0.411754</td>\n",
              "      <td>0.836582</td>\n",
              "      <td>...</td>\n",
              "      <td>1</td>\n",
              "      <td>1</td>\n",
              "      <td>1</td>\n",
              "      <td>1</td>\n",
              "      <td>0</td>\n",
              "      <td>1</td>\n",
              "      <td>0</td>\n",
              "      <td>0</td>\n",
              "      <td>1</td>\n",
              "      <td>0</td>\n",
              "    </tr>\n",
              "    <tr>\n",
              "      <th>2</th>\n",
              "      <td>1</td>\n",
              "      <td>0.033300</td>\n",
              "      <td>0.480124</td>\n",
              "      <td>0.00</td>\n",
              "      <td>0.0</td>\n",
              "      <td>0.209791</td>\n",
              "      <td>0.610350</td>\n",
              "      <td>0.356453</td>\n",
              "      <td>0.517720</td>\n",
              "      <td>0.679051</td>\n",
              "      <td>...</td>\n",
              "      <td>0</td>\n",
              "      <td>0</td>\n",
              "      <td>0</td>\n",
              "      <td>0</td>\n",
              "      <td>0</td>\n",
              "      <td>0</td>\n",
              "      <td>0</td>\n",
              "      <td>0</td>\n",
              "      <td>0</td>\n",
              "      <td>0</td>\n",
              "    </tr>\n",
              "    <tr>\n",
              "      <th>3</th>\n",
              "      <td>1</td>\n",
              "      <td>0.000000</td>\n",
              "      <td>0.538825</td>\n",
              "      <td>0.00</td>\n",
              "      <td>0.5</td>\n",
              "      <td>0.196344</td>\n",
              "      <td>0.724230</td>\n",
              "      <td>0.235606</td>\n",
              "      <td>0.288764</td>\n",
              "      <td>0.805110</td>\n",
              "      <td>...</td>\n",
              "      <td>0</td>\n",
              "      <td>0</td>\n",
              "      <td>0</td>\n",
              "      <td>0</td>\n",
              "      <td>0</td>\n",
              "      <td>0</td>\n",
              "      <td>0</td>\n",
              "      <td>0</td>\n",
              "      <td>0</td>\n",
              "      <td>0</td>\n",
              "    </tr>\n",
              "    <tr>\n",
              "      <th>4</th>\n",
              "      <td>0</td>\n",
              "      <td>0.100000</td>\n",
              "      <td>0.517794</td>\n",
              "      <td>0.00</td>\n",
              "      <td>0.0</td>\n",
              "      <td>0.494734</td>\n",
              "      <td>0.781422</td>\n",
              "      <td>0.154361</td>\n",
              "      <td>0.303809</td>\n",
              "      <td>0.812646</td>\n",
              "      <td>...</td>\n",
              "      <td>0</td>\n",
              "      <td>0</td>\n",
              "      <td>0</td>\n",
              "      <td>0</td>\n",
              "      <td>0</td>\n",
              "      <td>0</td>\n",
              "      <td>0</td>\n",
              "      <td>0</td>\n",
              "      <td>0</td>\n",
              "      <td>0</td>\n",
              "    </tr>\n",
              "  </tbody>\n",
              "</table>\n",
              "<p>5 rows × 1777 columns</p>\n",
              "</div>\n",
              "      <button class=\"colab-df-convert\" onclick=\"convertToInteractive('df-ac2adeb3-6ecb-4ec9-be08-f58fa8b97e34')\"\n",
              "              title=\"Convert this dataframe to an interactive table.\"\n",
              "              style=\"display:none;\">\n",
              "        \n",
              "  <svg xmlns=\"http://www.w3.org/2000/svg\" height=\"24px\"viewBox=\"0 0 24 24\"\n",
              "       width=\"24px\">\n",
              "    <path d=\"M0 0h24v24H0V0z\" fill=\"none\"/>\n",
              "    <path d=\"M18.56 5.44l.94 2.06.94-2.06 2.06-.94-2.06-.94-.94-2.06-.94 2.06-2.06.94zm-11 1L8.5 8.5l.94-2.06 2.06-.94-2.06-.94L8.5 2.5l-.94 2.06-2.06.94zm10 10l.94 2.06.94-2.06 2.06-.94-2.06-.94-.94-2.06-.94 2.06-2.06.94z\"/><path d=\"M17.41 7.96l-1.37-1.37c-.4-.4-.92-.59-1.43-.59-.52 0-1.04.2-1.43.59L10.3 9.45l-7.72 7.72c-.78.78-.78 2.05 0 2.83L4 21.41c.39.39.9.59 1.41.59.51 0 1.02-.2 1.41-.59l7.78-7.78 2.81-2.81c.8-.78.8-2.07 0-2.86zM5.41 20L4 18.59l7.72-7.72 1.47 1.35L5.41 20z\"/>\n",
              "  </svg>\n",
              "      </button>\n",
              "      \n",
              "  <style>\n",
              "    .colab-df-container {\n",
              "      display:flex;\n",
              "      flex-wrap:wrap;\n",
              "      gap: 12px;\n",
              "    }\n",
              "\n",
              "    .colab-df-convert {\n",
              "      background-color: #E8F0FE;\n",
              "      border: none;\n",
              "      border-radius: 50%;\n",
              "      cursor: pointer;\n",
              "      display: none;\n",
              "      fill: #1967D2;\n",
              "      height: 32px;\n",
              "      padding: 0 0 0 0;\n",
              "      width: 32px;\n",
              "    }\n",
              "\n",
              "    .colab-df-convert:hover {\n",
              "      background-color: #E2EBFA;\n",
              "      box-shadow: 0px 1px 2px rgba(60, 64, 67, 0.3), 0px 1px 3px 1px rgba(60, 64, 67, 0.15);\n",
              "      fill: #174EA6;\n",
              "    }\n",
              "\n",
              "    [theme=dark] .colab-df-convert {\n",
              "      background-color: #3B4455;\n",
              "      fill: #D2E3FC;\n",
              "    }\n",
              "\n",
              "    [theme=dark] .colab-df-convert:hover {\n",
              "      background-color: #434B5C;\n",
              "      box-shadow: 0px 1px 3px 1px rgba(0, 0, 0, 0.15);\n",
              "      filter: drop-shadow(0px 1px 2px rgba(0, 0, 0, 0.3));\n",
              "      fill: #FFFFFF;\n",
              "    }\n",
              "  </style>\n",
              "\n",
              "      <script>\n",
              "        const buttonEl =\n",
              "          document.querySelector('#df-ac2adeb3-6ecb-4ec9-be08-f58fa8b97e34 button.colab-df-convert');\n",
              "        buttonEl.style.display =\n",
              "          google.colab.kernel.accessAllowed ? 'block' : 'none';\n",
              "\n",
              "        async function convertToInteractive(key) {\n",
              "          const element = document.querySelector('#df-ac2adeb3-6ecb-4ec9-be08-f58fa8b97e34');\n",
              "          const dataTable =\n",
              "            await google.colab.kernel.invokeFunction('convertToInteractive',\n",
              "                                                     [key], {});\n",
              "          if (!dataTable) return;\n",
              "\n",
              "          const docLinkHtml = 'Like what you see? Visit the ' +\n",
              "            '<a target=\"_blank\" href=https://colab.research.google.com/notebooks/data_table.ipynb>data table notebook</a>'\n",
              "            + ' to learn more about interactive tables.';\n",
              "          element.innerHTML = '';\n",
              "          dataTable['output_type'] = 'display_data';\n",
              "          await google.colab.output.renderOutput(dataTable, element);\n",
              "          const docLink = document.createElement('div');\n",
              "          docLink.innerHTML = docLinkHtml;\n",
              "          element.appendChild(docLink);\n",
              "        }\n",
              "      </script>\n",
              "    </div>\n",
              "  </div>\n",
              "  "
            ]
          },
          "metadata": {},
          "execution_count": 4
        }
      ]
    },
    {
      "cell_type": "code",
      "source": [
        "# посмотрим на сбалансированность классов\n",
        "data['Activity'].value_counts(normalize=True)"
      ],
      "metadata": {
        "colab": {
          "base_uri": "https://localhost:8080/"
        },
        "id": "fFceamRXZbGi",
        "outputId": "3f6afcf0-9fc7-4364-b6d7-877691976695"
      },
      "execution_count": null,
      "outputs": [
        {
          "output_type": "execute_result",
          "data": {
            "text/plain": [
              "1    0.542255\n",
              "0    0.457745\n",
              "Name: Activity, dtype: float64"
            ]
          },
          "metadata": {},
          "execution_count": 5
        }
      ]
    },
    {
      "cell_type": "code",
      "source": [
        "X = data.drop('Activity',axis=1)\n",
        "y = data['Activity']"
      ],
      "metadata": {
        "id": "CgDHXe6ZcHtr"
      },
      "execution_count": null,
      "outputs": []
    },
    {
      "cell_type": "code",
      "source": [
        "# разобьем наши данные на тренировочную и тестовую выборки\n",
        "X_train,X_test,y_train,y_test = model_selection.train_test_split(X,y,test_size=0.2,random_state=42)"
      ],
      "metadata": {
        "id": "iwDfmYdxbZF0"
      },
      "execution_count": null,
      "outputs": []
    },
    {
      "cell_type": "code",
      "source": [
        "print('Размер тренировочной выборки: {}'.format(X_train.shape), '\\n',\n",
        "      'Размер тестовой выборки: {}'.format(X_test.shape))"
      ],
      "metadata": {
        "colab": {
          "base_uri": "https://localhost:8080/"
        },
        "id": "TebWv68-cYf1",
        "outputId": "6ea71e2e-3d81-4acf-caba-5d066f4765f9"
      },
      "execution_count": null,
      "outputs": [
        {
          "output_type": "stream",
          "name": "stdout",
          "text": [
            "Размер тренировочной выборки: (3000, 1776) \n",
            " Размер тестовой выборки: (751, 1776)\n"
          ]
        }
      ]
    },
    {
      "cell_type": "code",
      "source": [
        "# Обучаем Логистическую регрессию с параметрами по умолчанию и смотрим целевую метрику\n",
        "model = linear_model.LogisticRegression(random_state=42,max_iter=1000)\n",
        "model.fit(X_train,y_train)\n",
        "base_logreg_prediction = model.predict(X_test)\n",
        "print('Значение f1 score с параметрами по умолчанию: {:.2f}'.format(metrics.f1_score(y_test,base_logreg_prediction)))"
      ],
      "metadata": {
        "colab": {
          "base_uri": "https://localhost:8080/"
        },
        "id": "P0zDr79djhs0",
        "outputId": "043332e7-ca88-428c-9b44-3dc664bd4cf6"
      },
      "execution_count": null,
      "outputs": [
        {
          "output_type": "stream",
          "name": "stdout",
          "text": [
            "Значение f1 score с параметрами по умолчанию: 0.79\n"
          ]
        }
      ]
    },
    {
      "cell_type": "code",
      "source": [
        "# Обучаем случайный лес с параметрами по умолчанию и смотрим целевую метрику\n",
        "model = ensemble.RandomForestClassifier()\n",
        "model.fit(X_train,y_train)\n",
        "base_forest_prediction = model.predict(X_test)\n",
        "print('Значение f1 score с параметрами по умолчанию: {:.2f}'.format(metrics.f1_score(y_test,base_forest_prediction)))"
      ],
      "metadata": {
        "colab": {
          "base_uri": "https://localhost:8080/"
        },
        "id": "Rs2O7WKGjhl9",
        "outputId": "de9a6328-ed4e-4918-e113-cad6970021e2"
      },
      "execution_count": null,
      "outputs": [
        {
          "output_type": "stream",
          "name": "stdout",
          "text": [
            "Значение f1 score с параметрами по умолчанию: 0.83\n"
          ]
        }
      ]
    },
    {
      "cell_type": "markdown",
      "source": [
        "Попробуем улучшить значение нашей метрики путем подбора гиперпараметров:"
      ],
      "metadata": {
        "id": "9kTN2_oklvH8"
      }
    },
    {
      "cell_type": "code",
      "source": [
        "model = linear_model.LogisticRegression(random_state=42,max_iter=1000)\n",
        "# создадим сетку гиперпараметров, которые хотим оптимизировать\n",
        "params_grid = [\n",
        "    {'penalty': ['l2','none'],\n",
        "    'solver': ['newton-cg','lbfgs','sag'],\n",
        "    'C':[ 0.1, 0.5, 1]},\n",
        "    {'penalty': ['l1','l2'],\n",
        "    'solver': ['liblinear','saga'],\n",
        "    'C':[ 0.1, 0.5, 1]}\n",
        "]"
      ],
      "metadata": {
        "id": "KgO2rtb9dcWr"
      },
      "execution_count": null,
      "outputs": []
    },
    {
      "cell_type": "code",
      "source": [
        "best_grid = model_selection.GridSearchCV(estimator=model,\n",
        "                                        param_grid=params_grid,\n",
        "                                        n_jobs=-1,\n",
        "                                        cv=5,\n",
        "                                        return_train_score=True)"
      ],
      "metadata": {
        "id": "zHev0Aq0hsU4"
      },
      "execution_count": null,
      "outputs": []
    },
    {
      "cell_type": "code",
      "source": [
        "%time best_grid.fit(X_train,y_train)\n",
        "grid_pred = best_grid.predict(X_test)\n",
        "print('Значение f1 score с подбором параметров по сетке: {:.2f}'.format(metrics.f1_score(y_test,grid_pred)))"
      ],
      "metadata": {
        "id": "xFEh108gjQXO",
        "colab": {
          "base_uri": "https://localhost:8080/"
        },
        "outputId": "bcede1e6-6bc0-4008-956a-06076be38ab9"
      },
      "execution_count": null,
      "outputs": [
        {
          "output_type": "stream",
          "name": "stdout",
          "text": [
            "CPU times: user 22.4 s, sys: 3.09 s, total: 25.4 s\n",
            "Wall time: 42min 46s\n",
            "Значение f1 score с подбором параметров по сетке: 0.79\n"
          ]
        }
      ]
    },
    {
      "cell_type": "code",
      "source": [
        "# лучшие параметры, которые получилось подобрать \n",
        "best_grid.best_params_"
      ],
      "metadata": {
        "colab": {
          "base_uri": "https://localhost:8080/"
        },
        "id": "J0mEzsasT9OM",
        "outputId": "79b2e98d-a5af-4217-b4bf-f5fc350a268a"
      },
      "execution_count": null,
      "outputs": [
        {
          "output_type": "execute_result",
          "data": {
            "text/plain": [
              "{'C': 0.5, 'penalty': 'l1', 'solver': 'saga'}"
            ]
          },
          "metadata": {},
          "execution_count": 14
        }
      ]
    },
    {
      "cell_type": "markdown",
      "source": [
        "после проведения подбора гиперпараметров методом GridSearch не получилось улучшить метрику. Попробуем применить Hyperopt для лучшей оптимизации"
      ],
      "metadata": {
        "id": "UAI4x6DGfcXO"
      }
    },
    {
      "cell_type": "code",
      "source": [
        " # напишем пространства с коэффициентами для оптимизации\n",
        "space_1 = {\n",
        "      'penalty': hp.choice('penalty',['l2','none']),\n",
        "      'solver': hp.choice('solver',['newton-cg','lbfgs','sag']),\n",
        "      'C':hp.quniform('C',0.1,2,0.05)}\n",
        "space_2 = {\n",
        "    'penalty':hp.choice('penalty',['l1','l2']),\n",
        "    'solver': hp.choice('solver',['liblinear','saga']),\n",
        "    'C':hp.quniform('C',0.1,2,0.05)}\n",
        "\n",
        "trials= Trials()\n",
        "\n",
        "# функция которую будем падавать в Hyperopt\n",
        "def func(params,x=X_train,y=y_train,random_state=42):\n",
        "   \"\"\"\n",
        "    Функция для расчета целевой метрики, для параметров из Hyperopt\n",
        "\n",
        "    параметры\n",
        "    ----------\n",
        "    params : параметры из Hyperopt\n",
        "    x : тренировочная выборка\n",
        "    y : целевой признак тренировочной выборки\n",
        "    random_state : число, необходимое для обеспечения повторяемости результатов\n",
        "\n",
        "    \"\"\"\n",
        "  model = linear_model.LogisticRegression(**params,max_iter=1000,random_state=42)\n",
        "  c_val = model_selection.cross_val_score(estimator=model, X=X_train,y=y_train,n_jobs=-1,scoring='f1',cv=5).mean()   # проводим кросс валидацию\n",
        "\n",
        "  return -c_val\n",
        "\n",
        "# производим оптимизацию с пространством space_1\n",
        "hpot_1 = fmin(\n",
        "    fn=func,\n",
        "    space=space_1,\n",
        "    trials=trials,\n",
        "    max_evals=40,\n",
        "    rstate=np.random.RandomState(42),\n",
        "    algo=tpe.suggest\n",
        ")"
      ],
      "metadata": {
        "colab": {
          "base_uri": "https://localhost:8080/"
        },
        "id": "Qo2GYV-Qfk_O",
        "outputId": "e917cb71-af3d-4679-8707-44b8053c1156"
      },
      "execution_count": null,
      "outputs": [
        {
          "output_type": "stream",
          "name": "stdout",
          "text": [
            "100%|██████████| 40/40 [42:03<00:00, 63.09s/it, best loss: -0.7864364208494703]\n"
          ]
        }
      ]
    },
    {
      "cell_type": "code",
      "source": [
        "# производим оптимизацию с пространством space_2\n",
        "trials = Trials()\n",
        "hpot_2 = fmin(\n",
        "    fn=func,\n",
        "    space=space_2,\n",
        "    trials=trials,\n",
        "    max_evals=40,\n",
        "    rstate=np.random.RandomState(42),\n",
        "    algo=tpe.suggest\n",
        ")"
      ],
      "metadata": {
        "colab": {
          "base_uri": "https://localhost:8080/"
        },
        "id": "2CmwAeAzo73r",
        "outputId": "bf1acfe3-8316-4a93-8613-20b9818a8851"
      },
      "execution_count": null,
      "outputs": [
        {
          "output_type": "stream",
          "name": "stdout",
          "text": [
            "100%|██████████| 40/40 [2:19:25<00:00, 209.15s/it, best loss: -0.7849351387765445]\n"
          ]
        }
      ]
    },
    {
      "cell_type": "code",
      "source": [
        "# имееи следующие коэффициенты\n",
        "print(hpot_1,'\\n',hpot_2)"
      ],
      "metadata": {
        "colab": {
          "base_uri": "https://localhost:8080/"
        },
        "id": "stmrT2T554in",
        "outputId": "6c058783-ab77-4dbb-8430-c928035ee56b"
      },
      "execution_count": null,
      "outputs": [
        {
          "output_type": "stream",
          "name": "stdout",
          "text": [
            "{'C': 0.1, 'penalty': 0, 'solver': 1} \n",
            " {'C': 0.45, 'penalty': 0, 'solver': 1}\n"
          ]
        }
      ]
    },
    {
      "cell_type": "code",
      "source": [
        "# Обучим модель на полученных коэффициентах и посмотрим на итоговую метрику\n",
        "model = linear_model.LogisticRegression(\n",
        "    penalty='l2',\n",
        "    solver='lbfgs',\n",
        "    C=0.1,\n",
        "    max_iter=1000,\n",
        "    random_state=42\n",
        "    )\n",
        "model.fit(X_train,y_train)\n",
        "print(metrics.f1_score(y_test,model.predict(X_test)))"
      ],
      "metadata": {
        "colab": {
          "base_uri": "https://localhost:8080/"
        },
        "id": "YKwSfa5rlBzo",
        "outputId": "cc529d72-adea-4ed4-dad0-124543d2eb93"
      },
      "execution_count": null,
      "outputs": [
        {
          "output_type": "stream",
          "name": "stdout",
          "text": [
            "0.7945516458569808\n"
          ]
        }
      ]
    },
    {
      "cell_type": "code",
      "source": [
        "# Обучим модель на полученных коэффициентах и посмотрим на итоговую метрику\n",
        "model = linear_model.LogisticRegression(\n",
        "    penalty='l1',\n",
        "    solver='saga',\n",
        "    C=0.45,\n",
        "    max_iter=2000,\n",
        "    random_state=42\n",
        "    )\n",
        "model.fit(X_train,y_train)\n",
        "print(metrics.f1_score(y_test,model.predict(X_test)))"
      ],
      "metadata": {
        "colab": {
          "base_uri": "https://localhost:8080/"
        },
        "id": "sk-K-GtOpNd_",
        "outputId": "109b7236-1574-4650-d9f7-4a15ffc42c2d"
      },
      "execution_count": null,
      "outputs": [
        {
          "output_type": "stream",
          "name": "stdout",
          "text": [
            "0.7931428571428571\n"
          ]
        }
      ]
    },
    {
      "cell_type": "markdown",
      "source": [
        "Как мы ввидим итоговая метрика после проведения оптимизации правктически не поменялась.\n",
        "Попробуем обучить Случайный лес на данных и применим два метода для его оптимизации - RandomedSearchCV и Optuna"
      ],
      "metadata": {
        "id": "fJ-NbZKt5NYZ"
      }
    },
    {
      "cell_type": "code",
      "source": [
        "# Зададим критерии поиска для рандомной оптимизации\n",
        "param_distributions = {\n",
        "    'criterion': ['gini','entropy'],\n",
        "    'max_depth': [4,5,7,8,9,10],\n",
        "    'min_samples_leaf': [3,4,5,6,7,8],\n",
        "    'n_estimators': [100,120,150,170,200]\n",
        "    }\n"
      ],
      "metadata": {
        "id": "BZ7t8-wT5Vf6"
      },
      "execution_count": null,
      "outputs": []
    },
    {
      "cell_type": "code",
      "source": [
        "model = ensemble.RandomForestClassifier(random_state=42)\n",
        "random_search_forest = model_selection.RandomizedSearchCV(\n",
        "    param_distributions=param_distributions,\n",
        "    estimator = model,\n",
        "    n_jobs=-1,\n",
        "    scoring='f1',\n",
        "    cv=5,\n",
        "    n_iter=30\n",
        ")"
      ],
      "metadata": {
        "id": "LTN61nuI6pIZ"
      },
      "execution_count": null,
      "outputs": []
    },
    {
      "cell_type": "code",
      "source": [
        "%time random_search_forest.fit(X_train,y_train)\n",
        "random_search_forest_pred = random_search_forest.predict(X_test)\n",
        "print('f1 score для тестовой метрики {:.2f}'.format(metrics.f1_score(y_test,random_search_forest_pred)))\n",
        "print('Подобранные коэффициенты: {}'.format(random_search_forest.best_params_))"
      ],
      "metadata": {
        "colab": {
          "base_uri": "https://localhost:8080/"
        },
        "id": "Pp-j2zYJ8TN1",
        "outputId": "266d07ed-326e-49ca-a645-74cbfe17d849"
      },
      "execution_count": null,
      "outputs": [
        {
          "output_type": "stream",
          "name": "stdout",
          "text": [
            "CPU times: user 4.2 s, sys: 144 ms, total: 4.35 s\n",
            "Wall time: 2min 31s\n",
            "f1 score для тестовой метрики 0.83\n",
            "Подобранные коэффициенты: {'n_estimators': 170, 'min_samples_leaf': 3, 'max_depth': 10, 'criterion': 'entropy'}\n"
          ]
        }
      ]
    },
    {
      "cell_type": "markdown",
      "source": [
        "Как мы видим итоговую метрику удалось улучшить подбором оптимальных коэффициентов"
      ],
      "metadata": {
        "id": "wzMij6VsB6CB"
      }
    },
    {
      "cell_type": "code",
      "source": [
        "# Используем Optuna и попробуем подобрать с помощью нее гиперпараметры\n",
        "\n",
        "# напишем функцию, которую будем передавать в оптимизатор\n",
        "def func(trial):\n",
        "   \"\"\"\n",
        "    Функция для расчета целевой метрики, для параметров из Optuna\n",
        "\n",
        "    параметры\n",
        "    ----------\n",
        "    trials : параметры из Optuna\n",
        "    \n",
        "    \"\"\"\n",
        "  criterion = trial.suggest_categorical('criterion',['gini','entropy'])\n",
        "  max_depth = trial.suggest_int('max_depth', 4, 10, 1)\n",
        "  min_samples_leaf =  trial.suggest_int('min_samples_leaf', 3, 10, 1)\n",
        "  n_estimators = trial.suggest_int('n_estimators', 100, 200, 10)\n",
        "\n",
        "# создадим модель\n",
        "  model = ensemble.RandomForestClassifier(\n",
        "      n_estimators=n_estimators,\n",
        "      criterion=criterion,\n",
        "      max_depth=max_depth,\n",
        "      min_samples_leaf=min_samples_leaf,\n",
        "      random_state=42\n",
        "      )\n",
        "  pred = model_selection.cross_val_score(X=X_train,y=y_train,cv=5,scoring='f1',n_jobs=-1,estimator=model).mean()\n",
        "  return pred\n",
        "  \n",
        "\n",
        "study = optuna.create_study(direction='maximize',study_name='RandomForestClassifier')"
      ],
      "metadata": {
        "colab": {
          "base_uri": "https://localhost:8080/"
        },
        "id": "0hNtCbcuB5eJ",
        "outputId": "a039a315-eadd-4aaa-c476-36a186c94051"
      },
      "execution_count": null,
      "outputs": [
        {
          "output_type": "stream",
          "name": "stderr",
          "text": [
            "\u001b[32m[I 2022-11-29 21:15:49,181]\u001b[0m A new study created in memory with name: RandomForestClassifier\u001b[0m\n"
          ]
        }
      ]
    },
    {
      "cell_type": "code",
      "source": [
        "study.optimize(func=func,n_jobs=-1,n_trials=40)"
      ],
      "metadata": {
        "colab": {
          "base_uri": "https://localhost:8080/"
        },
        "id": "vRUJPDj9HY2M",
        "outputId": "7bd7e8c2-1250-4013-f253-e24d865854b4"
      },
      "execution_count": null,
      "outputs": [
        {
          "output_type": "stream",
          "name": "stderr",
          "text": [
            "\u001b[32m[I 2022-11-29 21:16:06,531]\u001b[0m Trial 0 finished with value: 0.7747492861292312 and parameters: {'criterion': 'gini', 'max_depth': 7, 'min_samples_leaf': 8, 'n_estimators': 140}. Best is trial 0 with value: 0.7747492861292312.\u001b[0m\n",
            "\u001b[32m[I 2022-11-29 21:16:08,091]\u001b[0m Trial 1 finished with value: 0.7903544388529932 and parameters: {'criterion': 'gini', 'max_depth': 8, 'min_samples_leaf': 5, 'n_estimators': 150}. Best is trial 1 with value: 0.7903544388529932.\u001b[0m\n",
            "\u001b[32m[I 2022-11-29 21:16:16,611]\u001b[0m Trial 2 finished with value: 0.7871130019484459 and parameters: {'criterion': 'entropy', 'max_depth': 10, 'min_samples_leaf': 8, 'n_estimators': 120}. Best is trial 1 with value: 0.7903544388529932.\u001b[0m\n",
            "\u001b[32m[I 2022-11-29 21:16:17,489]\u001b[0m Trial 3 finished with value: 0.7747492861292312 and parameters: {'criterion': 'gini', 'max_depth': 7, 'min_samples_leaf': 8, 'n_estimators': 140}. Best is trial 1 with value: 0.7903544388529932.\u001b[0m\n",
            "\u001b[32m[I 2022-11-29 21:16:26,294]\u001b[0m Trial 4 finished with value: 0.7602102513223886 and parameters: {'criterion': 'gini', 'max_depth': 6, 'min_samples_leaf': 8, 'n_estimators': 190}. Best is trial 1 with value: 0.7903544388529932.\u001b[0m\n",
            "\u001b[32m[I 2022-11-29 21:16:26,797]\u001b[0m Trial 5 finished with value: 0.7896518387824146 and parameters: {'criterion': 'gini', 'max_depth': 8, 'min_samples_leaf': 5, 'n_estimators': 140}. Best is trial 1 with value: 0.7903544388529932.\u001b[0m\n",
            "\u001b[32m[I 2022-11-29 21:16:34,242]\u001b[0m Trial 6 finished with value: 0.7585789641407562 and parameters: {'criterion': 'entropy', 'max_depth': 6, 'min_samples_leaf': 6, 'n_estimators': 120}. Best is trial 1 with value: 0.7903544388529932.\u001b[0m\n",
            "\u001b[32m[I 2022-11-29 21:16:34,367]\u001b[0m Trial 7 finished with value: 0.7477583432519521 and parameters: {'criterion': 'entropy', 'max_depth': 5, 'min_samples_leaf': 4, 'n_estimators': 130}. Best is trial 1 with value: 0.7903544388529932.\u001b[0m\n",
            "\u001b[32m[I 2022-11-29 21:16:45,221]\u001b[0m Trial 8 finished with value: 0.7884826380910603 and parameters: {'criterion': 'gini', 'max_depth': 8, 'min_samples_leaf': 3, 'n_estimators': 100}. Best is trial 1 with value: 0.7903544388529932.\u001b[0m\n",
            "\u001b[32m[I 2022-11-29 21:16:46,160]\u001b[0m Trial 9 finished with value: 0.7753799153940545 and parameters: {'criterion': 'entropy', 'max_depth': 7, 'min_samples_leaf': 5, 'n_estimators': 160}. Best is trial 1 with value: 0.7903544388529932.\u001b[0m\n",
            "\u001b[32m[I 2022-11-29 21:16:58,132]\u001b[0m Trial 10 finished with value: 0.7871229511636598 and parameters: {'criterion': 'entropy', 'max_depth': 9, 'min_samples_leaf': 7, 'n_estimators': 160}. Best is trial 1 with value: 0.7903544388529932.\u001b[0m\n",
            "\u001b[32m[I 2022-11-29 21:16:58,537]\u001b[0m Trial 11 finished with value: 0.7840777130260606 and parameters: {'criterion': 'gini', 'max_depth': 10, 'min_samples_leaf': 10, 'n_estimators': 170}. Best is trial 1 with value: 0.7903544388529932.\u001b[0m\n",
            "\u001b[32m[I 2022-11-29 21:17:10,622]\u001b[0m Trial 13 finished with value: 0.7874931853552288 and parameters: {'criterion': 'gini', 'max_depth': 8, 'min_samples_leaf': 5, 'n_estimators': 180}. Best is trial 1 with value: 0.7903544388529932.\u001b[0m\n",
            "\u001b[32m[I 2022-11-29 21:17:10,699]\u001b[0m Trial 12 finished with value: 0.790213500699316 and parameters: {'criterion': 'gini', 'max_depth': 9, 'min_samples_leaf': 5, 'n_estimators': 180}. Best is trial 1 with value: 0.7903544388529932.\u001b[0m\n",
            "\u001b[32m[I 2022-11-29 21:17:25,186]\u001b[0m Trial 15 finished with value: 0.7949780247750582 and parameters: {'criterion': 'gini', 'max_depth': 9, 'min_samples_leaf': 3, 'n_estimators': 190}. Best is trial 15 with value: 0.7949780247750582.\u001b[0m\n",
            "\u001b[32m[I 2022-11-29 21:17:25,242]\u001b[0m Trial 14 finished with value: 0.7939842909389702 and parameters: {'criterion': 'gini', 'max_depth': 9, 'min_samples_leaf': 3, 'n_estimators': 200}. Best is trial 15 with value: 0.7949780247750582.\u001b[0m\n",
            "\u001b[32m[I 2022-11-29 21:17:36,378]\u001b[0m Trial 16 finished with value: 0.7418705816689938 and parameters: {'criterion': 'gini', 'max_depth': 4, 'min_samples_leaf': 3, 'n_estimators': 200}. Best is trial 15 with value: 0.7949780247750582.\u001b[0m\n",
            "\u001b[32m[I 2022-11-29 21:17:37,815]\u001b[0m Trial 17 finished with value: 0.7939842909389702 and parameters: {'criterion': 'gini', 'max_depth': 9, 'min_samples_leaf': 3, 'n_estimators': 200}. Best is trial 15 with value: 0.7949780247750582.\u001b[0m\n",
            "\u001b[32m[I 2022-11-29 21:17:51,277]\u001b[0m Trial 18 finished with value: 0.7939842909389702 and parameters: {'criterion': 'gini', 'max_depth': 9, 'min_samples_leaf': 3, 'n_estimators': 200}. Best is trial 15 with value: 0.7949780247750582.\u001b[0m\n",
            "\u001b[32m[I 2022-11-29 21:17:52,587]\u001b[0m Trial 19 finished with value: 0.7948908596868266 and parameters: {'criterion': 'gini', 'max_depth': 10, 'min_samples_leaf': 4, 'n_estimators': 190}. Best is trial 15 with value: 0.7949780247750582.\u001b[0m\n",
            "\u001b[32m[I 2022-11-29 21:18:05,670]\u001b[0m Trial 20 finished with value: 0.7912909424306599 and parameters: {'criterion': 'gini', 'max_depth': 10, 'min_samples_leaf': 4, 'n_estimators': 180}. Best is trial 15 with value: 0.7949780247750582.\u001b[0m\n",
            "\u001b[32m[I 2022-11-29 21:18:06,833]\u001b[0m Trial 21 finished with value: 0.7912909424306599 and parameters: {'criterion': 'gini', 'max_depth': 10, 'min_samples_leaf': 4, 'n_estimators': 180}. Best is trial 15 with value: 0.7949780247750582.\u001b[0m\n",
            "\u001b[32m[I 2022-11-29 21:18:22,116]\u001b[0m Trial 22 finished with value: 0.7948908596868266 and parameters: {'criterion': 'gini', 'max_depth': 10, 'min_samples_leaf': 4, 'n_estimators': 190}. Best is trial 15 with value: 0.7949780247750582.\u001b[0m\n",
            "\u001b[32m[I 2022-11-29 21:18:22,861]\u001b[0m Trial 23 finished with value: 0.7949637838240152 and parameters: {'criterion': 'gini', 'max_depth': 9, 'min_samples_leaf': 4, 'n_estimators': 190}. Best is trial 15 with value: 0.7949780247750582.\u001b[0m\n",
            "\u001b[32m[I 2022-11-29 21:18:36,352]\u001b[0m Trial 24 finished with value: 0.7948908596868266 and parameters: {'criterion': 'gini', 'max_depth': 10, 'min_samples_leaf': 4, 'n_estimators': 190}. Best is trial 15 with value: 0.7949780247750582.\u001b[0m\n",
            "\u001b[32m[I 2022-11-29 21:18:36,491]\u001b[0m Trial 25 finished with value: 0.787085581769309 and parameters: {'criterion': 'gini', 'max_depth': 9, 'min_samples_leaf': 6, 'n_estimators': 170}. Best is trial 15 with value: 0.7949780247750582.\u001b[0m\n",
            "\u001b[32m[I 2022-11-29 21:18:49,383]\u001b[0m Trial 26 finished with value: 0.787085581769309 and parameters: {'criterion': 'gini', 'max_depth': 9, 'min_samples_leaf': 6, 'n_estimators': 170}. Best is trial 15 with value: 0.7949780247750582.\u001b[0m\n",
            "\u001b[32m[I 2022-11-29 21:18:49,694]\u001b[0m Trial 27 finished with value: 0.7860298621011417 and parameters: {'criterion': 'entropy', 'max_depth': 8, 'min_samples_leaf': 6, 'n_estimators': 170}. Best is trial 15 with value: 0.7949780247750582.\u001b[0m\n",
            "\u001b[32m[I 2022-11-29 21:19:04,904]\u001b[0m Trial 29 finished with value: 0.7948908596868266 and parameters: {'criterion': 'gini', 'max_depth': 10, 'min_samples_leaf': 4, 'n_estimators': 190}. Best is trial 15 with value: 0.7949780247750582.\u001b[0m\n",
            "\u001b[32m[I 2022-11-29 21:19:04,924]\u001b[0m Trial 28 finished with value: 0.7835013240459319 and parameters: {'criterion': 'entropy', 'max_depth': 8, 'min_samples_leaf': 4, 'n_estimators': 190}. Best is trial 15 with value: 0.7949780247750582.\u001b[0m\n",
            "\u001b[32m[I 2022-11-29 21:19:15,446]\u001b[0m Trial 31 finished with value: 0.7704907993849032 and parameters: {'criterion': 'gini', 'max_depth': 7, 'min_samples_leaf': 10, 'n_estimators': 160}. Best is trial 15 with value: 0.7949780247750582.\u001b[0m\n",
            "\u001b[32m[I 2022-11-29 21:19:15,478]\u001b[0m Trial 30 finished with value: 0.7704907993849032 and parameters: {'criterion': 'gini', 'max_depth': 7, 'min_samples_leaf': 10, 'n_estimators': 160}. Best is trial 15 with value: 0.7949780247750582.\u001b[0m\n",
            "\u001b[32m[I 2022-11-29 21:19:31,959]\u001b[0m Trial 32 finished with value: 0.797386354027209 and parameters: {'criterion': 'gini', 'max_depth': 10, 'min_samples_leaf': 3, 'n_estimators': 190}. Best is trial 32 with value: 0.797386354027209.\u001b[0m\n",
            "\u001b[32m[I 2022-11-29 21:19:32,005]\u001b[0m Trial 33 finished with value: 0.797386354027209 and parameters: {'criterion': 'gini', 'max_depth': 10, 'min_samples_leaf': 3, 'n_estimators': 190}. Best is trial 32 with value: 0.797386354027209.\u001b[0m\n",
            "\u001b[32m[I 2022-11-29 21:19:47,957]\u001b[0m Trial 34 finished with value: 0.798588447529698 and parameters: {'criterion': 'gini', 'max_depth': 10, 'min_samples_leaf': 3, 'n_estimators': 180}. Best is trial 34 with value: 0.798588447529698.\u001b[0m\n",
            "\u001b[32m[I 2022-11-29 21:19:48,007]\u001b[0m Trial 35 finished with value: 0.7961376350120412 and parameters: {'criterion': 'gini', 'max_depth': 9, 'min_samples_leaf': 3, 'n_estimators': 180}. Best is trial 34 with value: 0.798588447529698.\u001b[0m\n",
            "\u001b[32m[I 2022-11-29 21:20:01,490]\u001b[0m Trial 37 finished with value: 0.8014869050846757 and parameters: {'criterion': 'gini', 'max_depth': 10, 'min_samples_leaf': 3, 'n_estimators': 150}. Best is trial 37 with value: 0.8014869050846757.\u001b[0m\n",
            "\u001b[32m[I 2022-11-29 21:20:01,820]\u001b[0m Trial 36 finished with value: 0.798588447529698 and parameters: {'criterion': 'gini', 'max_depth': 10, 'min_samples_leaf': 3, 'n_estimators': 180}. Best is trial 37 with value: 0.8014869050846757.\u001b[0m\n",
            "\u001b[32m[I 2022-11-29 21:20:13,121]\u001b[0m Trial 38 finished with value: 0.7840128528564904 and parameters: {'criterion': 'gini', 'max_depth': 10, 'min_samples_leaf': 9, 'n_estimators': 150}. Best is trial 37 with value: 0.8014869050846757.\u001b[0m\n",
            "\u001b[32m[I 2022-11-29 21:20:13,166]\u001b[0m Trial 39 finished with value: 0.7840128528564904 and parameters: {'criterion': 'gini', 'max_depth': 10, 'min_samples_leaf': 9, 'n_estimators': 150}. Best is trial 37 with value: 0.8014869050846757.\u001b[0m\n"
          ]
        }
      ]
    },
    {
      "cell_type": "code",
      "source": [
        "# Выведем полученные значения параметров\n",
        "print('Лучший результат на тренировочной выборке: {:.2f}'.format(study.best_value))\n",
        "print('Полученные с помощью Optuna гиперпараметры: {}'.format(study.best_params))"
      ],
      "metadata": {
        "colab": {
          "base_uri": "https://localhost:8080/"
        },
        "id": "S7wiulADCfam",
        "outputId": "c5a7f2ef-9e3f-4bfe-e395-35f7ee5cf9e1"
      },
      "execution_count": null,
      "outputs": [
        {
          "output_type": "stream",
          "name": "stdout",
          "text": [
            "Лучший результат на тренировочной выборке: 0.80\n",
            "Полученные с помощью Optuna гиперпараметры: {'criterion': 'gini', 'max_depth': 10, 'min_samples_leaf': 3, 'n_estimators': 150}\n"
          ]
        }
      ]
    },
    {
      "cell_type": "code",
      "source": [
        "# Обучим модель на тренировочной выборке с полученными параметрами и посмотрим метрику на тестовой выборке\n",
        "model = ensemble.RandomForestClassifier(**study.best_params)\n",
        "model.fit(X_train,y_train)\n",
        "optuna_forest_pred = model.predict(X_test)\n",
        "print('f1 score на тестовой выборке: {:.2f}'.format(metrics.f1_score(y_test,optuna_forest_pred)))"
      ],
      "metadata": {
        "colab": {
          "base_uri": "https://localhost:8080/"
        },
        "id": "HmW_QHFDQ2ow",
        "outputId": "962a915e-a9da-4ab0-ab26-caab50234023"
      },
      "execution_count": null,
      "outputs": [
        {
          "output_type": "stream",
          "name": "stdout",
          "text": [
            "f1 score на тестовой выборке: 0.82\n"
          ]
        }
      ]
    }
  ]
}